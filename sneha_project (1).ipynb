{
 "cells": [
  {
   "cell_type": "code",
   "execution_count": 3,
   "id": "cfe07a14",
   "metadata": {},
   "outputs": [
    {
     "name": "stdout",
     "output_type": "stream",
     "text": [
      "   Unnamed: 0  Advanced Economies  Argentina  Australia   Austria   Belgium  \\\n",
      "0         NaN                 NaN        NaN        NaN       NaN       NaN   \n",
      "1      1996.0            7.322558        NaN   8.516425  7.033851  9.544409   \n",
      "2      1997.0            7.023916        NaN   8.363718  7.103283  9.212289   \n",
      "3      1998.0            6.647297        NaN   7.651377  7.184796  9.340881   \n",
      "4      1999.0            6.325793        NaN   6.869885  6.645249  8.411080   \n",
      "\n",
      "   Bulgaria  Bahrain  Belarus  Brazil  ...  Thailand  Tunisia  Turkey  \\\n",
      "0       NaN      NaN      NaN     NaN  ...       NaN      NaN     NaN   \n",
      "1  11.06167      NaN      NaN     NaN  ...       NaN      NaN     NaN   \n",
      "2  14.04583      NaN      NaN     NaN  ...       NaN      NaN     NaN   \n",
      "3  12.20333      NaN      NaN     NaN  ...       NaN      NaN     NaN   \n",
      "4  13.78250      NaN      NaN     NaN  ...       NaN      NaN     NaN   \n",
      "\n",
      "   Taiwan, China   Uruguay  United States  Venezuela, RB  Viet Nam  \\\n",
      "0            NaN       NaN            NaN            NaN       NaN   \n",
      "1          2.600       NaN       5.408333            NaN       NaN   \n",
      "2          2.725  11.55833       4.941667            NaN       NaN   \n",
      "3          2.700  10.12500       4.500000            NaN       NaN   \n",
      "4          2.925  11.20000       4.216667       14.50367       NaN   \n",
      "\n",
      "   World (WBG members)  South Africa  \n",
      "0                  NaN           NaN  \n",
      "1                  NaN           NaN  \n",
      "2                  NaN           NaN  \n",
      "3                  NaN           NaN  \n",
      "4                  NaN           NaN  \n",
      "\n",
      "[5 rows x 79 columns]\n"
     ]
    }
   ],
   "source": [
    "import pandas as pd\n",
    "\n",
    "# Load the dataset from the 'annual' sheet\n",
    "df = pd.read_excel('Unemployment Rate, seas. adj..xlsx' , sheet_name=\"annual\")\n",
    "\n",
    "# Display first few rows\n",
    "print(df.head())\n"
   ]
  },
  {
   "cell_type": "code",
   "execution_count": 4,
   "id": "e0cf0cc1",
   "metadata": {},
   "outputs": [
    {
     "name": "stdout",
     "output_type": "stream",
     "text": [
      "Missing values handled successfully.\n"
     ]
    }
   ],
   "source": [
    "# Check for missing values\n",
    "missing_values = df.isnull().sum()\n",
    "\n",
    "# Drop columns where more than 50% of values are missing\n",
    "df = df.dropna(thresh=len(df) * 0.5, axis=1)\n",
    "\n",
    "# Fill remaining missing values with column mean\n",
    "df = df.fillna(df.mean())\n",
    "\n",
    "print(\"Missing values handled successfully.\")\n"
   ]
  },
  {
   "cell_type": "code",
   "execution_count": 5,
   "id": "d28498af",
   "metadata": {},
   "outputs": [
    {
     "name": "stdout",
     "output_type": "stream",
     "text": [
      "     Year  Advanced Economies  Argentina  Australia   Austria   Belgium  \\\n",
      "0  2010.0            6.532838    9.63847   5.661814  7.251912  7.552595   \n",
      "1  1996.0            7.322558    9.63847   8.516425  7.033851  9.544409   \n",
      "2  1997.0            7.023916    9.63847   8.363718  7.103283  9.212289   \n",
      "3  1998.0            6.647297    9.63847   7.651377  7.184796  9.340881   \n",
      "4  1999.0            6.325793    9.63847   6.869885  6.645249  8.411080   \n",
      "\n",
      "   Bulgaria  Bahrain    Canada  Switzerland  ...     Sweden  Thailand  \\\n",
      "0  10.07796     5.15  7.195977     3.066506  ...   7.670389  1.365556   \n",
      "1  11.06167     5.15  9.608333     4.665679  ...  10.899000  1.365556   \n",
      "2  14.04583     5.15  9.091667     5.201972  ...  10.882630  1.365556   \n",
      "3  12.20333     5.15  8.291667     3.840284  ...   8.813412  1.365556   \n",
      "4  13.78250     5.15  7.566667     2.713548  ...   7.565179  1.365556   \n",
      "\n",
      "      Turkey  Taiwan, China    Uruguay  United States  Venezuela, RB  \\\n",
      "0  10.451316       3.939799   9.855864       5.567529      10.204788   \n",
      "1  10.451316       2.600000   9.855864       5.408333      10.204788   \n",
      "2  10.451316       2.725000  11.558330       4.941667      10.204788   \n",
      "3  10.451316       2.700000  10.125000       4.500000      10.204788   \n",
      "4  10.451316       2.925000  11.200000       4.216667      14.503670   \n",
      "\n",
      "   Viet Nam  World (WBG members)  South Africa  \n",
      "0   2.38375             7.322661     26.636737  \n",
      "1   2.38375             7.322661     26.636737  \n",
      "2   2.38375             7.322661     26.636737  \n",
      "3   2.38375             7.322661     26.636737  \n",
      "4   2.38375             7.322661     26.636737  \n",
      "\n",
      "[5 rows x 71 columns]\n"
     ]
    }
   ],
   "source": [
    "# Rename the first column to 'Year' if it's unnamed\n",
    "df.rename(columns={df.columns[0]: \"Year\"}, inplace=True)\n",
    "\n",
    "print(df.head())  # Display after renaming\n"
   ]
  },
  {
   "cell_type": "code",
   "execution_count": 6,
   "id": "c12c7e43",
   "metadata": {},
   "outputs": [],
   "source": [
    "# Convert 'Year' to integer type\n",
    "df[\"Year\"] = df[\"Year\"].astype(int)\n"
   ]
  },
  {
   "cell_type": "code",
   "execution_count": 10,
   "id": "87603a0a",
   "metadata": {},
   "outputs": [],
   "source": [
    "df = df.drop_duplicates()\n"
   ]
  },
  {
   "cell_type": "code",
   "execution_count": 7,
   "id": "3858743f",
   "metadata": {},
   "outputs": [
    {
     "name": "stdout",
     "output_type": "stream",
     "text": [
      "Data normalized successfully.\n"
     ]
    }
   ],
   "source": [
    "from sklearn.preprocessing import MinMaxScaler\n",
    "\n",
    "# Select numerical columns (excluding 'Year')\n",
    "numerical_cols = df.columns[1:]\n",
    "\n",
    "# Apply MinMaxScaler for normalization\n",
    "scaler = MinMaxScaler()\n",
    "df[numerical_cols] = scaler.fit_transform(df[numerical_cols])\n",
    "\n",
    "print(\"Data normalized successfully.\")\n"
   ]
  },
  {
   "cell_type": "code",
   "execution_count": 9,
   "id": "6f4cbeac",
   "metadata": {},
   "outputs": [],
   "source": [
    "# Save to a local directory\n",
    "df.to_csv(\"cleaned_unemployment_data.csv\", index=False)"
   ]
  },
  {
   "cell_type": "code",
   "execution_count": null,
   "id": "4f66de00",
   "metadata": {},
   "outputs": [],
   "source": []
  }
 ],
 "metadata": {
  "kernelspec": {
   "display_name": "Python 3 (ipykernel)",
   "language": "python",
   "name": "python3"
  },
  "language_info": {
   "codemirror_mode": {
    "name": "ipython",
    "version": 3
   },
   "file_extension": ".py",
   "mimetype": "text/x-python",
   "name": "python",
   "nbconvert_exporter": "python",
   "pygments_lexer": "ipython3",
   "version": "3.11.5"
  }
 },
 "nbformat": 4,
 "nbformat_minor": 5
}
